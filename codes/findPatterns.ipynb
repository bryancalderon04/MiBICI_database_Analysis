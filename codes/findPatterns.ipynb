{
 "cells": [
  {
   "cell_type": "code",
   "execution_count": 2,
   "metadata": {},
   "outputs": [],
   "source": [
    "import numpy as np\n",
    "import pandas as pd\n",
    "import matplotlib.pyplot as plt\n",
    "import gmplot\n",
    "from IPython.display import display\n",
    "from IPython.display import IFrame\n",
    "from scipy.stats import lognorm\n",
    "from scipy.stats import norm\n",
    "import scipy.stats as stats"
   ]
  },
  {
   "cell_type": "markdown",
   "metadata": {},
   "source": [
    "En la celda siguiente haremos todo lo relacionado a extracción de datos\n",
    "\n"
   ]
  },
  {
   "cell_type": "code",
   "execution_count": 3,
   "metadata": {},
   "outputs": [
    {
     "data": {
      "text/html": [
       "<div>\n",
       "<style scoped>\n",
       "    .dataframe tbody tr th:only-of-type {\n",
       "        vertical-align: middle;\n",
       "    }\n",
       "\n",
       "    .dataframe tbody tr th {\n",
       "        vertical-align: top;\n",
       "    }\n",
       "\n",
       "    .dataframe thead th {\n",
       "        text-align: right;\n",
       "    }\n",
       "</style>\n",
       "<table border=\"1\" class=\"dataframe\">\n",
       "  <thead>\n",
       "    <tr style=\"text-align: right;\">\n",
       "      <th></th>\n",
       "      <th>Viaje_Id</th>\n",
       "      <th>Usuario_Id</th>\n",
       "      <th>Genero</th>\n",
       "      <th>Ano_de_nacimiento</th>\n",
       "      <th>Inicio_del_viaje</th>\n",
       "      <th>Fin_del_viaje</th>\n",
       "      <th>Origen_Id</th>\n",
       "      <th>Destino_Id</th>\n",
       "      <th>Duracion_del_viaje</th>\n",
       "      <th>Edad</th>\n",
       "    </tr>\n",
       "  </thead>\n",
       "  <tbody>\n",
       "    <tr>\n",
       "      <th>0</th>\n",
       "      <td>28467098</td>\n",
       "      <td>70123</td>\n",
       "      <td>0.0</td>\n",
       "      <td>1967.0</td>\n",
       "      <td>2023-05-01 00:00:03</td>\n",
       "      <td>2023-05-01 00:22:19</td>\n",
       "      <td>64</td>\n",
       "      <td>141</td>\n",
       "      <td>22.266667</td>\n",
       "      <td>56.0</td>\n",
       "    </tr>\n",
       "    <tr>\n",
       "      <th>1</th>\n",
       "      <td>28467099</td>\n",
       "      <td>2237235</td>\n",
       "      <td>0.0</td>\n",
       "      <td>1980.0</td>\n",
       "      <td>2023-05-01 00:00:23</td>\n",
       "      <td>2023-05-01 00:04:26</td>\n",
       "      <td>36</td>\n",
       "      <td>172</td>\n",
       "      <td>4.050000</td>\n",
       "      <td>43.0</td>\n",
       "    </tr>\n",
       "    <tr>\n",
       "      <th>2</th>\n",
       "      <td>28467100</td>\n",
       "      <td>2051727</td>\n",
       "      <td>1.0</td>\n",
       "      <td>2002.0</td>\n",
       "      <td>2023-05-01 00:01:05</td>\n",
       "      <td>2023-05-01 00:10:21</td>\n",
       "      <td>96</td>\n",
       "      <td>296</td>\n",
       "      <td>9.266667</td>\n",
       "      <td>21.0</td>\n",
       "    </tr>\n",
       "    <tr>\n",
       "      <th>3</th>\n",
       "      <td>28467101</td>\n",
       "      <td>2246225</td>\n",
       "      <td>0.0</td>\n",
       "      <td>1969.0</td>\n",
       "      <td>2023-05-01 00:01:07</td>\n",
       "      <td>2023-05-01 00:04:14</td>\n",
       "      <td>33</td>\n",
       "      <td>255</td>\n",
       "      <td>3.116667</td>\n",
       "      <td>54.0</td>\n",
       "    </tr>\n",
       "    <tr>\n",
       "      <th>4</th>\n",
       "      <td>28467102</td>\n",
       "      <td>324247</td>\n",
       "      <td>0.0</td>\n",
       "      <td>1975.0</td>\n",
       "      <td>2023-05-01 00:01:26</td>\n",
       "      <td>2023-05-01 00:13:18</td>\n",
       "      <td>226</td>\n",
       "      <td>231</td>\n",
       "      <td>11.866667</td>\n",
       "      <td>48.0</td>\n",
       "    </tr>\n",
       "  </tbody>\n",
       "</table>\n",
       "</div>"
      ],
      "text/plain": [
       "   Viaje_Id  Usuario_Id  Genero  Ano_de_nacimiento    Inicio_del_viaje  \\\n",
       "0  28467098       70123     0.0             1967.0 2023-05-01 00:00:03   \n",
       "1  28467099     2237235     0.0             1980.0 2023-05-01 00:00:23   \n",
       "2  28467100     2051727     1.0             2002.0 2023-05-01 00:01:05   \n",
       "3  28467101     2246225     0.0             1969.0 2023-05-01 00:01:07   \n",
       "4  28467102      324247     0.0             1975.0 2023-05-01 00:01:26   \n",
       "\n",
       "        Fin_del_viaje  Origen_Id  Destino_Id  Duracion_del_viaje  Edad  \n",
       "0 2023-05-01 00:22:19         64         141           22.266667  56.0  \n",
       "1 2023-05-01 00:04:26         36         172            4.050000  43.0  \n",
       "2 2023-05-01 00:10:21         96         296            9.266667  21.0  \n",
       "3 2023-05-01 00:04:14         33         255            3.116667  54.0  \n",
       "4 2023-05-01 00:13:18        226         231           11.866667  48.0  "
      ]
     },
     "execution_count": 3,
     "metadata": {},
     "output_type": "execute_result"
    }
   ],
   "source": [
    "# Ruta del archivo CSV\n",
    "\n",
    "\n",
    "# Cargar el archivo CSV en un dataframe\n",
    "dataframe = pd.read_csv(\"datos_mibici_2023_mayo.csv\")\n",
    "\n",
    "dataframe['Inicio_del_viaje'] = pd.to_datetime(dataframe['Inicio_del_viaje'])\n",
    "dataframe['Fin_del_viaje'] = pd.to_datetime(dataframe['Fin_del_viaje'])\n",
    "\n",
    "# Calcular la duración del viaje en minutos y guardarla en la columna 'Duracion_del_viaje'\n",
    "dataframe['Duracion_del_viaje'] = (dataframe['Fin_del_viaje'] - dataframe['Inicio_del_viaje']).dt.total_seconds() / 60\n",
    "\n",
    "mapeo_genero = {'M': 0, 'F': 1} #HOMBRES (M) --> 0 Y MUJERES(F)-->1\n",
    "# Aplicar el mapeo al dataframe\n",
    "dataframe['Genero'] = dataframe['Genero'].map(mapeo_genero)\n",
    "# Obtener el año actual\n",
    "anio_actual = 2023\n",
    "# Calcular la edad restando el año de nacimiento del año actual\n",
    "dataframe['Edad'] = anio_actual - dataframe['Ano_de_nacimiento']\n",
    "# Verificar la carga exitosa imprimiendo las primeras filas del dataframe\n",
    "dataframe.head()"
   ]
  },
  {
   "cell_type": "code",
   "execution_count": 4,
   "metadata": {},
   "outputs": [
    {
     "data": {
      "image/png": "[encoded data removed]",
      "text/plain": [
       "<Figure size 432x288 with 1 Axes>"
      ]
     },
     "metadata": {
      "needs_background": "light"
     },
     "output_type": "display_data"
    },
    {
     "data": {
      "image/png": "[encoded data removed]",
      "text/plain": [
       "<Figure size 432x288 with 1 Axes>"
      ]
     },
     "metadata": {
      "needs_background": "light"
     },
     "output_type": "display_data"
    }
   ],
   "source": [
    "num_bins = max(dataframe['Origen_Id'])\n",
    "# Crear histograma para la variable \"Origen_Id\"\n",
    "plt.hist(dataframe['Origen_Id'], bins=num_bins, color=\"blue\")  # Puedes ajustar el número de bins según tus preferencias\n",
    "plt.xlabel('Origen_Id')\n",
    "plt.ylabel('Frecuencia')\n",
    "plt.title('Histograma de Origen_Id')\n",
    "plt.show()\n",
    "\n",
    "\n",
    "# Crear histograma para la variable \"Destino_Id\"\n",
    "plt.hist(dataframe['Destino_Id'], bins=num_bins, color=\"green\")  # Puedes ajustar el número de bins según tus preferencias\n",
    "plt.xlabel('Destino_Id')\n",
    "plt.ylabel('Frecuencia')\n",
    "plt.title('Histograma de Destino_Id')\n",
    "plt.show()\n",
    "\n"
   ]
  },
  {
   "cell_type": "code",
   "execution_count": 5,
   "metadata": {},
   "outputs": [
    {
     "data": {
      "image/png": "[encoded data removed]",
      "text/plain": [
       "<Figure size 432x288 with 1 Axes>"
      ]
     },
     "metadata": {
      "needs_background": "light"
     },
     "output_type": "display_data"
    },
    {
     "data": {
      "image/png": "[encoded data removed]",
      "text/plain": [
       "<Figure size 432x288 with 1 Axes>"
      ]
     },
     "metadata": {
      "needs_background": "light"
     },
     "output_type": "display_data"
    }
   ],
   "source": [
    "import matplotlib.pyplot as plt\n",
    "\n",
    "# Obtener las frecuencias de la columna \"Origen_Id\" y ordenarlas de manera descendente\n",
    "origen_counts = dataframe['Origen_Id'].value_counts().sort_values(ascending=False)\n",
    "\n",
    "# Obtener los valores y las frecuencias ordenadas\n",
    "origen_values = origen_counts.index\n",
    "origen_frequencies = origen_counts.values\n",
    "\n",
    "# Crear histograma para la variable \"Origen_Id\" con las barras ordenadas\n",
    "plt.bar(range(len(origen_values)), origen_frequencies, color=\"blue\")\n",
    "plt.xlabel('Origen_Id')\n",
    "plt.ylabel('Frecuencia')\n",
    "plt.title('Histograma de Origen_Id')\n",
    "plt.xticks(range(len(origen_values)), origen_values)  # Etiquetas en el eje x correspondientes a los valores\n",
    "plt.show()\n",
    "\n",
    "# Obtener las frecuencias de la columna \"Destino_Id\" y ordenarlas de manera descendente\n",
    "destino_counts = dataframe['Destino_Id'].value_counts().sort_values(ascending=False)\n",
    "\n",
    "# Obtener los valores y las frecuencias ordenadas\n",
    "destino_values = destino_counts.index\n",
    "destino_frequencies = destino_counts.values\n",
    "\n",
    "# Crear histograma para la variable \"Destino_Id\" con las barras ordenadas\n",
    "plt.bar(range(len(destino_values)), destino_frequencies, color=\"green\")\n",
    "plt.xlabel('Destino_Id')\n",
    "plt.ylabel('Frecuencia')\n",
    "plt.title('Histograma de Destino_Id')\n",
    "plt.xticks(range(len(destino_values)), destino_values)\n",
    "# Etiquetas en el eje x correspondientes a los valores\n",
    "plt.xticks(rotation=90)\n",
    "plt.show()"
   ]
  },
  {
   "cell_type": "code",
   "execution_count": 6,
   "metadata": {},
   "outputs": [
    {
     "name": "stdout",
     "output_type": "stream",
     "text": [
      "51     8186\n",
      "271    5795\n",
      "11     5747\n",
      "35     5536\n",
      "52     5116\n",
      "50     4935\n",
      "54     4212\n",
      "260    3511\n",
      "194    3503\n",
      "58     3307\n",
      "Name: Origen_Id, dtype: int64\n"
     ]
    }
   ],
   "source": [
    "# Obtener las frecuencias de los ID en la columna \"Origen_Id\"\n",
    "origen_freq = dataframe['Origen_Id'].value_counts()\n",
    "\n",
    "# Seleccionar los 20 primeros ID con mayor frecuencia\n",
    "top_20_ids = origen_freq.head(10)\n",
    "\n",
    "# Imprimir los 20 ID con mayor frecuencia\n",
    "print(top_20_ids)"
   ]
  },
  {
   "cell_type": "code",
   "execution_count": 7,
   "metadata": {},
   "outputs": [
    {
     "name": "stdout",
     "output_type": "stream",
     "text": [
      "51     9578\n",
      "35     6345\n",
      "271    5548\n",
      "11     5452\n",
      "52     5171\n",
      "50     5080\n",
      "54     4540\n",
      "34     4504\n",
      "260    4326\n",
      "58     3986\n",
      "Name: Destino_Id, dtype: int64\n"
     ]
    }
   ],
   "source": [
    "# Obtener las frecuencias de los ID en la columna \"Origen_Id\"\n",
    "fin_freq = dataframe['Destino_Id'].value_counts()\n",
    "\n",
    "# Seleccionar los 20 primeros ID con mayor frecuencia\n",
    "top_20_ids = fin_freq.head(10)\n",
    "\n",
    "# Imprimir los 20 ID con mayor frecuencia\n",
    "print(top_20_ids)"
   ]
  },
  {
   "cell_type": "code",
   "execution_count": 8,
   "metadata": {},
   "outputs": [],
   "source": [
    "import numpy as np\n",
    "import matplotlib.pyplot as plt\n",
    "from scipy.stats import norm\n",
    "\n",
    "# Definir función para el algoritmo EM\n",
    "def em_algorithm(data, num_clusters, num_iterations):\n",
    "    # Inicializar parámetros\n",
    "    weights = np.ones(num_clusters) / num_clusters\n",
    "    means = np.linspace(min(data), max(data), num_clusters)\n",
    "    variances = np.ones(num_clusters)\n",
    "\n",
    "    for _ in range(num_iterations):\n",
    "        # PASO E\n",
    "        likelihoods = np.zeros((len(data), num_clusters))\n",
    "        for i in range(num_clusters):\n",
    "            likelihoods[:, i] = weights[i] * norm.pdf(data, means[i], np.sqrt(variances[i]))\n",
    "\n",
    "        sum_likelihoods = np.sum(likelihoods, axis=1, keepdims=True)\n",
    "        responsibilities = np.divide(likelihoods, sum_likelihoods, out=np.zeros_like(likelihoods), where=sum_likelihoods!=0)\n",
    "\n",
    "        # PASO M\n",
    "        weights = np.mean(responsibilities, axis=0)\n",
    "        means = np.sum(responsibilities * data[:, np.newaxis], axis=0) / np.sum(responsibilities, axis=0)\n",
    "        variances = np.sum(responsibilities * (data[:, np.newaxis] - means)**2, axis=0) / np.sum(responsibilities, axis=0)\n",
    "        variances = np.clip(variances, a_min=1e-10, a_max=None)  # Asegurar que las varianzas sean no nulas\n",
    "\n",
    "    return weights, means, variances\n",
    "\n",
    "\n"
   ]
  },
  {
   "cell_type": "code",
   "execution_count": 9,
   "metadata": {},
   "outputs": [
    {
     "data": {
      "text/html": [
       "<div>\n",
       "<style scoped>\n",
       "    .dataframe tbody tr th:only-of-type {\n",
       "        vertical-align: middle;\n",
       "    }\n",
       "\n",
       "    .dataframe tbody tr th {\n",
       "        vertical-align: top;\n",
       "    }\n",
       "\n",
       "    .dataframe thead th {\n",
       "        text-align: right;\n",
       "    }\n",
       "</style>\n",
       "<table border=\"1\" class=\"dataframe\">\n",
       "  <thead>\n",
       "    <tr style=\"text-align: right;\">\n",
       "      <th></th>\n",
       "      <th>Viaje_Id</th>\n",
       "      <th>Usuario_Id</th>\n",
       "      <th>Genero</th>\n",
       "      <th>Ano_de_nacimiento</th>\n",
       "      <th>Inicio_del_viaje</th>\n",
       "      <th>Fin_del_viaje</th>\n",
       "      <th>Origen_Id</th>\n",
       "      <th>Destino_Id</th>\n",
       "      <th>Duracion_del_viaje</th>\n",
       "      <th>Edad</th>\n",
       "      <th>Zona</th>\n",
       "    </tr>\n",
       "  </thead>\n",
       "  <tbody>\n",
       "    <tr>\n",
       "      <th>0</th>\n",
       "      <td>28467098</td>\n",
       "      <td>70123</td>\n",
       "      <td>0.0</td>\n",
       "      <td>1967.0</td>\n",
       "      <td>2023-05-01 00:00:03</td>\n",
       "      <td>2023-05-01 00:22:19</td>\n",
       "      <td>64</td>\n",
       "      <td>141</td>\n",
       "      <td>22.266667</td>\n",
       "      <td>56.0</td>\n",
       "      <td>0.0</td>\n",
       "    </tr>\n",
       "    <tr>\n",
       "      <th>1</th>\n",
       "      <td>28467099</td>\n",
       "      <td>2237235</td>\n",
       "      <td>0.0</td>\n",
       "      <td>1980.0</td>\n",
       "      <td>2023-05-01 00:00:23</td>\n",
       "      <td>2023-05-01 00:04:26</td>\n",
       "      <td>36</td>\n",
       "      <td>172</td>\n",
       "      <td>4.050000</td>\n",
       "      <td>43.0</td>\n",
       "      <td>0.0</td>\n",
       "    </tr>\n",
       "    <tr>\n",
       "      <th>2</th>\n",
       "      <td>28467100</td>\n",
       "      <td>2051727</td>\n",
       "      <td>1.0</td>\n",
       "      <td>2002.0</td>\n",
       "      <td>2023-05-01 00:01:05</td>\n",
       "      <td>2023-05-01 00:10:21</td>\n",
       "      <td>96</td>\n",
       "      <td>296</td>\n",
       "      <td>9.266667</td>\n",
       "      <td>21.0</td>\n",
       "      <td>1.0</td>\n",
       "    </tr>\n",
       "    <tr>\n",
       "      <th>3</th>\n",
       "      <td>28467101</td>\n",
       "      <td>2246225</td>\n",
       "      <td>0.0</td>\n",
       "      <td>1969.0</td>\n",
       "      <td>2023-05-01 00:01:07</td>\n",
       "      <td>2023-05-01 00:04:14</td>\n",
       "      <td>33</td>\n",
       "      <td>255</td>\n",
       "      <td>3.116667</td>\n",
       "      <td>54.0</td>\n",
       "      <td>0.0</td>\n",
       "    </tr>\n",
       "    <tr>\n",
       "      <th>4</th>\n",
       "      <td>28467102</td>\n",
       "      <td>324247</td>\n",
       "      <td>0.0</td>\n",
       "      <td>1975.0</td>\n",
       "      <td>2023-05-01 00:01:26</td>\n",
       "      <td>2023-05-01 00:13:18</td>\n",
       "      <td>226</td>\n",
       "      <td>231</td>\n",
       "      <td>11.866667</td>\n",
       "      <td>48.0</td>\n",
       "      <td>2.0</td>\n",
       "    </tr>\n",
       "  </tbody>\n",
       "</table>\n",
       "</div>"
      ],
      "text/plain": [
       "   Viaje_Id  Usuario_Id  Genero  Ano_de_nacimiento    Inicio_del_viaje  \\\n",
       "0  28467098       70123     0.0             1967.0 2023-05-01 00:00:03   \n",
       "1  28467099     2237235     0.0             1980.0 2023-05-01 00:00:23   \n",
       "2  28467100     2051727     1.0             2002.0 2023-05-01 00:01:05   \n",
       "3  28467101     2246225     0.0             1969.0 2023-05-01 00:01:07   \n",
       "4  28467102      324247     0.0             1975.0 2023-05-01 00:01:26   \n",
       "\n",
       "        Fin_del_viaje  Origen_Id  Destino_Id  Duracion_del_viaje  Edad  Zona  \n",
       "0 2023-05-01 00:22:19         64         141           22.266667  56.0   0.0  \n",
       "1 2023-05-01 00:04:26         36         172            4.050000  43.0   0.0  \n",
       "2 2023-05-01 00:10:21         96         296            9.266667  21.0   1.0  \n",
       "3 2023-05-01 00:04:14         33         255            3.116667  54.0   0.0  \n",
       "4 2023-05-01 00:13:18        226         231           11.866667  48.0   2.0  "
      ]
     },
     "execution_count": 9,
     "metadata": {},
     "output_type": "execute_result"
    }
   ],
   "source": [
    "def in_interval(x,a,b):\n",
    "    if  (x>= a and x<=b):\n",
    "        return True\n",
    "    else:\n",
    "        return False\n",
    "\n",
    "\n",
    "def asignar_location(valor):\n",
    "    if (valor>= 2 and valor<=88) or (valor>= 125 and valor<=141) or (valor>= 154 and valor<=225) or (valor>= 241 and valor<=250) or (valor>= 253 and valor<=256) or (valor>= 259 and valor<=266) or (valor>= 268 and valor<=269)or(valor>= 271 and valor<=285) or (valor>= 303 and valor<=304) or (valor>= 306 and valor<=316) or (valor>= 319 and valor<=321) or (valor>= 323 and valor<=324) or (valor>= 326 and valor<=327):\n",
    "        return 0 #POLIGONO CENTRAL\n",
    "    elif (valor>= 91 and valor<=120) or (valor>= 286 and valor<=296):\n",
    "        return 1 #ZAPOAN CENTRO\n",
    "    elif in_interval(valor,142,153) or in_interval(valor,226,240) or (valor==267)or (valor==270) or (valor==302) or (valor==305) or in_interval(valor,317,318) or (valor==322) or (valor==325):\n",
    "        return 2 #TLQ-CORREDORATLAS\n",
    "\n",
    "# Aplicar la función a la columna \"Destino_Id\" y asignar los valores resultantes a la columna \"Zona\"\n",
    "dataframe['Zona'] = dataframe['Destino_Id'].apply(asignar_location)     \n",
    "dataframe.head()\n",
    "\n"
   ]
  },
  {
   "cell_type": "code",
   "execution_count": 10,
   "metadata": {},
   "outputs": [
    {
     "data": {
      "image/png": "[encoded data removed]",
      "text/plain": [
       "<Figure size 432x288 with 1 Axes>"
      ]
     },
     "metadata": {
      "needs_background": "light"
     },
     "output_type": "display_data"
    },
    {
     "data": {
      "image/png": "[encoded data removed]",
      "text/plain": [
       "<Figure size 432x288 with 1 Axes>"
      ]
     },
     "metadata": {
      "needs_background": "light"
     },
     "output_type": "display_data"
    }
   ],
   "source": [
    "\n",
    "import pandas as pd\n",
    "import matplotlib.pyplot as plt\n",
    "\n",
    "# Paso 1: Convertir las columnas a formato de fecha y hora\n",
    "dataframe[\"Inicio_del_viaje\"] = pd.to_datetime(dataframe[\"Inicio_del_viaje\"])\n",
    "dataframe[\"Fin_del_viaje\"] = pd.to_datetime(dataframe[\"Fin_del_viaje\"])\n",
    "\n",
    "# Paso 2: Extraer la hora y contar las ocurrencias\n",
    "inicio_histograma = dataframe[\"Inicio_del_viaje\"].dt.hour.value_counts().sort_index()\n",
    "fin_histograma = dataframe[\"Fin_del_viaje\"].dt.hour.value_counts().sort_index()\n",
    "\n",
    "# Paso 3: Crear el histograma\n",
    "horas = [str(i).zfill(2) for i in range(24)]  # Lista de horas desde \"00\" hasta \"23\"\n",
    "inicio_ocurrencias = [inicio_histograma.get(int(hour), 0) for hour in horas]\n",
    "fin_ocurrencias = [fin_histograma.get(int(hour), 0) for hour in horas]\n",
    "\n",
    "color_inicio = \"blue\"  # Color para las barras de Inicio_de_viaje\n",
    "color_fin = \"red\"  # Color para las barras de Fin_de_viaje\n",
    "\n",
    "plt.bar(horas, inicio_ocurrencias,color=color_inicio ,alpha=0.5, label=\"Inicio_del_viaje\")\n",
    "plt.xlabel(\"Hora del día\")\n",
    "plt.ylabel(\"Ocurrencias\")\n",
    "plt.title(\"Histograma de Inicio_del_viaje \")\n",
    "plt.legend()\n",
    "plt.show()\n",
    "\n",
    "\n",
    "plt.bar(horas, fin_ocurrencias, alpha=0.5,color=color_fin, label=\"Fin_del_viaje\")\n",
    "plt.xlabel(\"Hora del día\")\n",
    "plt.ylabel(\"Ocurrencias\")\n",
    "plt.title(\"Histograma de Fin_del_viaje por hora\")\n",
    "plt.legend()\n",
    "plt.show()"
   ]
  },
  {
   "cell_type": "code",
   "execution_count": 11,
   "metadata": {},
   "outputs": [
    {
     "data": {
      "image/png": "[encoded data removed]",
      "text/plain": [
       "<Figure size 432x288 with 1 Axes>"
      ]
     },
     "metadata": {
      "needs_background": "light"
     },
     "output_type": "display_data"
    }
   ],
   "source": [
    "import pandas as pd\n",
    "import matplotlib.pyplot as plt\n",
    "\n",
    "# Paso 1: Convertir las columnas a formato de fecha y hora\n",
    "dataframe[\"Inicio_del_viaje\"] = pd.to_datetime(dataframe[\"Inicio_del_viaje\"])\n",
    "dataframe[\"Fin_del_viaje\"] = pd.to_datetime(dataframe[\"Fin_del_viaje\"])\n",
    "\n",
    "# Paso 2: Extraer la hora y contar las ocurrencias\n",
    "inicio_histograma = dataframe[\"Inicio_del_viaje\"].dt.hour.value_counts().sort_index()\n",
    "fin_histograma = dataframe[\"Fin_del_viaje\"].dt.hour.value_counts().sort_index()\n",
    "\n",
    "# Paso 3: Crear el histograma\n",
    "horas = [str(i).zfill(2) for i in range(24)]  # Lista de horas desde \"00\" hasta \"23\"\n",
    "inicio_ocurrencias = [inicio_histograma.get(int(hour), 0) for hour in horas]\n",
    "fin_ocurrencias = [fin_histograma.get(int(hour), 0) for hour in horas]\n",
    "\n",
    "plt.bar(horas, inicio_ocurrencias, alpha=0.5, label=\"Inicio_del_viaje\")\n",
    "plt.bar(horas, fin_ocurrencias, alpha=0.5, label=\"Fin_del_viaje\")\n",
    "plt.xlabel(\"Hora del día\")\n",
    "plt.ylabel(\"Ocurrencias\")\n",
    "plt.title(\"Histograma de Inicio_del_viaje y Fin_del_viaje por hora\")\n",
    "plt.legend()\n",
    "plt.show()"
   ]
  },
  {
   "cell_type": "code",
   "execution_count": 12,
   "metadata": {},
   "outputs": [
    {
     "data": {
      "image/png": "[encoded data removed]",
      "text/plain": [
       "<Figure size 432x288 with 1 Axes>"
      ]
     },
     "metadata": {
      "needs_background": "light"
     },
     "output_type": "display_data"
    }
   ],
   "source": [
    "import pandas as pd\n",
    "import matplotlib.pyplot as plt\n",
    "\n",
    "# Paso 1: Convertir las columnas a formato de fecha y hora\n",
    "dataframe[\"Inicio_del_viaje\"] = pd.to_datetime(dataframe[\"Inicio_del_viaje\"])\n",
    "dataframe[\"Fin_del_viaje\"] = pd.to_datetime(dataframe[\"Fin_del_viaje\"])\n",
    "\n",
    "# Paso 2: Extraer la hora y el minuto\n",
    "dataframe[\"Inicio_del_viaje_hora\"] = dataframe[\"Inicio_del_viaje\"].dt.hour\n",
    "dataframe[\"Inicio_del_viaje_minuto\"] = dataframe[\"Inicio_del_viaje\"].dt.minute\n",
    "\n",
    "dataframe[\"Fin_del_viaje_hora\"] = dataframe[\"Fin_del_viaje\"].dt.hour\n",
    "dataframe[\"Fin_del_viaje_minuto\"] = dataframe[\"Fin_del_viaje\"].dt.minute\n",
    "\n",
    "# Paso 3: Crear el histograma\n",
    "intervalos = [f\"{str(i).zfill(2)}:{str(j).zfill(2)}\" for i in range(24) for j in [0, 30]]  # Lista de intervalos de media hora\n",
    "inicio_ocurrencias = []\n",
    "fin_ocurrencias = []\n",
    "\n",
    "for intervalo in intervalos:\n",
    "    hora, minuto = intervalo.split(\":\")\n",
    "    hora = int(hora)\n",
    "    minuto = int(minuto)\n",
    "\n",
    "    # Filtrar los registros que caen dentro del intervalo de media hora\n",
    "    filtro_inicio = (dataframe[\"Inicio_del_viaje_hora\"] == hora) & (dataframe[\"Inicio_del_viaje_minuto\"] >= minuto) & (dataframe[\"Inicio_del_viaje_minuto\"] < minuto + 30)\n",
    "    filtro_fin = (dataframe[\"Fin_del_viaje_hora\"] == hora) & (dataframe[\"Fin_del_viaje_minuto\"] >= minuto) & (dataframe[\"Fin_del_viaje_minuto\"] < minuto + 30)\n",
    "\n",
    "    # Contar las ocurrencias\n",
    "    inicio_ocurrencias.append(len(dataframe[filtro_inicio]))\n",
    "    fin_ocurrencias.append(len(dataframe[filtro_fin]))\n",
    "\n",
    "plt.bar(intervalos, inicio_ocurrencias, alpha=0.5, label=\"Inicio_del_viaje\")\n",
    "plt.bar(intervalos, fin_ocurrencias, alpha=0.5, label=\"Fin_del_viaje\")\n",
    "plt.xlabel(\"Intervalo de media hora\")\n",
    "plt.ylabel(\"Ocurrencias\")\n",
    "plt.title(\"Histograma de Inicio_del_viaje y Fin_del_viaje por intervalo de media hora\")\n",
    "plt.legend()\n",
    "plt.xticks(rotation=90)\n",
    "plt.subplots_adjust(bottom=0.25)  # Rotar las etiquetas del eje x para mayor legibilidad\n",
    "plt.show()"
   ]
  },
  {
   "cell_type": "code",
   "execution_count": 46,
   "metadata": {},
   "outputs": [
    {
     "name": "stderr",
     "output_type": "stream",
     "text": [
      "C:\\Users\\dell\\AppData\\Local\\Temp\\ipykernel_14560\\1565057738.py:23: FutureWarning: Support for multi-dimensional indexing (e.g. `obj[:, None]`) is deprecated and will be removed in a future version.  Convert to a numpy array before indexing instead.\n",
      "  means = np.sum(responsibilities * data[:, np.newaxis], axis=0) / np.sum(responsibilities, axis=0)\n",
      "C:\\Users\\dell\\AppData\\Local\\Temp\\ipykernel_14560\\1565057738.py:24: FutureWarning: Support for multi-dimensional indexing (e.g. `obj[:, None]`) is deprecated and will be removed in a future version.  Convert to a numpy array before indexing instead.\n",
      "  variances = np.sum(responsibilities * (data[:, np.newaxis] - means)**2, axis=0) / np.sum(responsibilities, axis=0)\n"
     ]
    },
    {
     "name": "stdout",
     "output_type": "stream",
     "text": [
      "[0.01917543 0.30431078 0.67651379] [ 0.7816992   9.87078923 17.98357836] [0.30884413 2.49216706 9.43841156]\n",
      "[0.0221777  0.31149658 0.66632572] [ 0.85635242 10.09664993 18.19525681] [0.37444504 2.66427758 9.08230788]\n"
     ]
    },
    {
     "data": {
      "image/png": "[encoded data removed]",
      "text/plain": [
       "<Figure size 432x288 with 1 Axes>"
      ]
     },
     "metadata": {
      "needs_background": "light"
     },
     "output_type": "display_data"
    }
   ],
   "source": [
    "import pandas as pd\n",
    "import matplotlib.pyplot as plt\n",
    "\n",
    "# Paso 1: Convertir las columnas a formato de fecha y hora\n",
    "dataframe[\"Inicio_del_viaje\"] = pd.to_datetime(dataframe[\"Inicio_del_viaje\"])\n",
    "dataframe[\"Fin_del_viaje\"] = pd.to_datetime(dataframe[\"Fin_del_viaje\"])\n",
    "\n",
    "# Paso 2: Extraer la hora y el minuto\n",
    "dataframe[\"Inicio_del_viaje_hora\"] = dataframe[\"Inicio_del_viaje\"].dt.hour\n",
    "dataframe[\"Inicio_del_viaje_minuto\"] = dataframe[\"Inicio_del_viaje\"].dt.minute\n",
    "\n",
    "dataframe[\"Fin_del_viaje_hora\"] = dataframe[\"Fin_del_viaje\"].dt.hour\n",
    "dataframe[\"Fin_del_viaje_minuto\"] = dataframe[\"Fin_del_viaje\"].dt.minute\n",
    "\n",
    "# Paso 3: Crear los histogramas\n",
    "intervalos = [i + j/60 for i in range(24) for j in [0, 30]]  # Lista de intervalos en formato decimal\n",
    "\n",
    "data_inicio = dataframe[\"Inicio_del_viaje_hora\"] + dataframe[\"Inicio_del_viaje_minuto\"]/60\n",
    "data_fin = dataframe[\"Fin_del_viaje_hora\"] + dataframe[\"Fin_del_viaje_minuto\"]/60\n",
    "num_clus =3\n",
    "num_iter =100\n",
    "\n",
    "w_inicio,mu_inicio,std_inicio = em_algorithm(data_inicio,num_clus,num_iter)\n",
    "w_fin,mu_fin,std_fin = em_algorithm(data_fin,num_clus,num_iter)\n",
    "print(w_inicio,mu_inicio,std_inicio)\n",
    "print(w_fin,mu_fin,std_fin)\n",
    "\n",
    "# Dibujar histograma y distribuciones normales para \"Origen_Id\"\n",
    "plt.hist(data_inicio, bins='auto', density=True, alpha=0.7, color='purple', label='Histograma')\n",
    "\n",
    "x = np.linspace(min(data_inicio), max(data_inicio), 100)\n",
    "for i in range(1,num_clus):\n",
    "    y = w_inicio[i] * norm.pdf(x, mu_inicio[i], np.sqrt(std_inicio[i]))\n",
    "    plt.plot(x, y, label=f'Distribución {i+2}',linewidth = 4)\n",
    "plt.xlabel('Origen_Id')\n",
    "plt.ylabel('Densidad')\n",
    "plt.title('Histograma y Distribuciones Normales para Origen_Id')\n",
    "plt.legend()\n",
    "#plt.show()\n",
    "\n",
    "# Dibujar histograma y distribuciones normales para \"Destino_Id\"\n",
    "#plt.hist(data_fin, bins='auto', density=True, alpha=0.7, color='green', label='Histograma')\n",
    "\n",
    "\n",
    "\n",
    "plt.xlabel('Destino_Id')\n",
    "plt.ylabel('Densidad')\n",
    "plt.title('Histograma y Distribuciones Normales para Destino_Id')\n",
    "plt.legend()\n",
    "plt.show()\n",
    "\n"
   ]
  },
  {
   "cell_type": "code",
   "execution_count": 14,
   "metadata": {},
   "outputs": [
    {
     "data": {
      "image/png": "[encoded data removed]",
      "text/plain": [
       "<Figure size 576x432 with 1 Axes>"
      ]
     },
     "metadata": {
      "needs_background": "light"
     },
     "output_type": "display_data"
    }
   ],
   "source": [
    "import pandas as pd\n",
    "import matplotlib.pyplot as plt\n",
    "\n",
    "# Paso 1: Convertir las columnas a formato de fecha y hora\n",
    "dataframe[\"Inicio_del_viaje\"] = pd.to_datetime(dataframe[\"Inicio_del_viaje\"])\n",
    "dataframe[\"Fin_del_viaje\"] = pd.to_datetime(dataframe[\"Fin_del_viaje\"])\n",
    "\n",
    "# Paso 2: Extraer la hora y el minuto\n",
    "dataframe[\"Inicio_del_viaje_hora\"] = dataframe[\"Inicio_del_viaje\"].dt.hour\n",
    "dataframe[\"Inicio_del_viaje_minuto\"] = dataframe[\"Inicio_del_viaje\"].dt.minute\n",
    "\n",
    "dataframe[\"Fin_del_viaje_hora\"] = dataframe[\"Fin_del_viaje\"].dt.hour\n",
    "dataframe[\"Fin_del_viaje_minuto\"] = dataframe[\"Fin_del_viaje\"].dt.minute\n",
    "\n",
    "# Paso 3: Crear los histogramas\n",
    "intervalos = [f\"{str(i).zfill(2)}:{str(j).zfill(2)}\" for i in range(24) for j in [0, 30]]  # Lista de intervalos de media hora\n",
    "inicio_ocurrencias = []\n",
    "fin_ocurrencias = []\n",
    "\n",
    "for intervalo in intervalos:\n",
    "    hora, minuto = intervalo.split(\":\")\n",
    "    hora = int(hora)\n",
    "    minuto = int(minuto)\n",
    "\n",
    "    # Filtrar los registros que caen dentro del intervalo de media hora\n",
    "    filtro_inicio = (dataframe[\"Inicio_del_viaje_hora\"] == hora) & (dataframe[\"Inicio_del_viaje_minuto\"] >= minuto) & (dataframe[\"Inicio_del_viaje_minuto\"] < minuto + 30)\n",
    "    filtro_fin = (dataframe[\"Fin_del_viaje_hora\"] == hora) & (dataframe[\"Fin_del_viaje_minuto\"] >= minuto) & (dataframe[\"Fin_del_viaje_minuto\"] < minuto + 30)\n",
    "\n",
    "    # Contar las ocurrencias\n",
    "    inicio_ocurrencias.append(len(dataframe[filtro_inicio]))\n",
    "    fin_ocurrencias.append(len(dataframe[filtro_fin]))\n",
    "\n",
    "# Gráfica para Inicio_del_viaje\n",
    "plt.figure(figsize=(8, 6))  # Tamaño de la figura\n",
    "plt.bar(intervalos, inicio_ocurrencias, alpha=0.5, color='orange', label=\"Inicio_del_viaje\")\n",
    "plt.xlabel(\"Intervalo de media hora\")\n",
    "plt.ylabel(\"Ocurrencias\")\n",
    "plt.title(\"Histograma de Inicio_del_viaje por intervalo de media hora\")\n",
    "plt.xticks(rotation=90)\n",
    "plt.subplots_adjust(bottom=0.25)  # Rotar las etiquetas del eje x para mayor legibilidad\n",
    "plt.bar(intervalos, fin_ocurrencias, alpha=0.5, color='darkblue', label=\"Fin_del_viaje\")\n",
    "plt.xlabel(\"Intervalo de media hora\")\n",
    "plt.ylabel(\"Ocurrencias\")\n",
    "plt.title(\"Histograma de Fin_del_viaje por intervalo de media hora\")\n",
    "plt.xticks(rotation=90)\n",
    "plt.subplots_adjust(bottom=0.25)  # Rotar las etiquetas del eje x para mayor legibilidad\n",
    "plt.show()"
   ]
  },
  {
   "cell_type": "code",
   "execution_count": 15,
   "metadata": {},
   "outputs": [
    {
     "data": {
      "text/html": [
       "<div>\n",
       "<style scoped>\n",
       "    .dataframe tbody tr th:only-of-type {\n",
       "        vertical-align: middle;\n",
       "    }\n",
       "\n",
       "    .dataframe tbody tr th {\n",
       "        vertical-align: top;\n",
       "    }\n",
       "\n",
       "    .dataframe thead th {\n",
       "        text-align: right;\n",
       "    }\n",
       "</style>\n",
       "<table border=\"1\" class=\"dataframe\">\n",
       "  <thead>\n",
       "    <tr style=\"text-align: right;\">\n",
       "      <th></th>\n",
       "      <th>Viaje_Id</th>\n",
       "      <th>Usuario_Id</th>\n",
       "      <th>Genero</th>\n",
       "      <th>Ano_de_nacimiento</th>\n",
       "      <th>Inicio_del_viaje</th>\n",
       "      <th>Fin_del_viaje</th>\n",
       "      <th>Origen_Id</th>\n",
       "      <th>Destino_Id</th>\n",
       "      <th>Duracion_del_viaje</th>\n",
       "      <th>Edad</th>\n",
       "      <th>Zona</th>\n",
       "      <th>Inicio_del_viaje_hora</th>\n",
       "      <th>Inicio_del_viaje_minuto</th>\n",
       "      <th>Fin_del_viaje_hora</th>\n",
       "      <th>Fin_del_viaje_minuto</th>\n",
       "      <th>Dist_G</th>\n",
       "    </tr>\n",
       "  </thead>\n",
       "  <tbody>\n",
       "    <tr>\n",
       "      <th>0</th>\n",
       "      <td>28467098</td>\n",
       "      <td>70123</td>\n",
       "      <td>0.0</td>\n",
       "      <td>1967.0</td>\n",
       "      <td>2023-05-01 00:00:03</td>\n",
       "      <td>2023-05-01 00:22:19</td>\n",
       "      <td>64</td>\n",
       "      <td>141</td>\n",
       "      <td>22.266667</td>\n",
       "      <td>56.0</td>\n",
       "      <td>0.0</td>\n",
       "      <td>0</td>\n",
       "      <td>0</td>\n",
       "      <td>0</td>\n",
       "      <td>22</td>\n",
       "      <td>4.340899</td>\n",
       "    </tr>\n",
       "    <tr>\n",
       "      <th>1</th>\n",
       "      <td>28467099</td>\n",
       "      <td>2237235</td>\n",
       "      <td>0.0</td>\n",
       "      <td>1980.0</td>\n",
       "      <td>2023-05-01 00:00:23</td>\n",
       "      <td>2023-05-01 00:04:26</td>\n",
       "      <td>36</td>\n",
       "      <td>172</td>\n",
       "      <td>4.050000</td>\n",
       "      <td>43.0</td>\n",
       "      <td>0.0</td>\n",
       "      <td>0</td>\n",
       "      <td>0</td>\n",
       "      <td>0</td>\n",
       "      <td>4</td>\n",
       "      <td>0.773510</td>\n",
       "    </tr>\n",
       "    <tr>\n",
       "      <th>2</th>\n",
       "      <td>28467100</td>\n",
       "      <td>2051727</td>\n",
       "      <td>1.0</td>\n",
       "      <td>2002.0</td>\n",
       "      <td>2023-05-01 00:01:05</td>\n",
       "      <td>2023-05-01 00:10:21</td>\n",
       "      <td>96</td>\n",
       "      <td>296</td>\n",
       "      <td>9.266667</td>\n",
       "      <td>21.0</td>\n",
       "      <td>1.0</td>\n",
       "      <td>0</td>\n",
       "      <td>1</td>\n",
       "      <td>0</td>\n",
       "      <td>10</td>\n",
       "      <td>1.171307</td>\n",
       "    </tr>\n",
       "    <tr>\n",
       "      <th>3</th>\n",
       "      <td>28467101</td>\n",
       "      <td>2246225</td>\n",
       "      <td>0.0</td>\n",
       "      <td>1969.0</td>\n",
       "      <td>2023-05-01 00:01:07</td>\n",
       "      <td>2023-05-01 00:04:14</td>\n",
       "      <td>33</td>\n",
       "      <td>255</td>\n",
       "      <td>3.116667</td>\n",
       "      <td>54.0</td>\n",
       "      <td>0.0</td>\n",
       "      <td>0</td>\n",
       "      <td>1</td>\n",
       "      <td>0</td>\n",
       "      <td>4</td>\n",
       "      <td>0.389296</td>\n",
       "    </tr>\n",
       "    <tr>\n",
       "      <th>4</th>\n",
       "      <td>28467102</td>\n",
       "      <td>324247</td>\n",
       "      <td>0.0</td>\n",
       "      <td>1975.0</td>\n",
       "      <td>2023-05-01 00:01:26</td>\n",
       "      <td>2023-05-01 00:13:18</td>\n",
       "      <td>226</td>\n",
       "      <td>231</td>\n",
       "      <td>11.866667</td>\n",
       "      <td>48.0</td>\n",
       "      <td>2.0</td>\n",
       "      <td>0</td>\n",
       "      <td>1</td>\n",
       "      <td>0</td>\n",
       "      <td>13</td>\n",
       "      <td>1.624038</td>\n",
       "    </tr>\n",
       "  </tbody>\n",
       "</table>\n",
       "</div>"
      ],
      "text/plain": [
       "   Viaje_Id  Usuario_Id  Genero  Ano_de_nacimiento    Inicio_del_viaje  \\\n",
       "0  28467098       70123     0.0             1967.0 2023-05-01 00:00:03   \n",
       "1  28467099     2237235     0.0             1980.0 2023-05-01 00:00:23   \n",
       "2  28467100     2051727     1.0             2002.0 2023-05-01 00:01:05   \n",
       "3  28467101     2246225     0.0             1969.0 2023-05-01 00:01:07   \n",
       "4  28467102      324247     0.0             1975.0 2023-05-01 00:01:26   \n",
       "\n",
       "        Fin_del_viaje  Origen_Id  Destino_Id  Duracion_del_viaje  Edad  Zona  \\\n",
       "0 2023-05-01 00:22:19         64         141           22.266667  56.0   0.0   \n",
       "1 2023-05-01 00:04:26         36         172            4.050000  43.0   0.0   \n",
       "2 2023-05-01 00:10:21         96         296            9.266667  21.0   1.0   \n",
       "3 2023-05-01 00:04:14         33         255            3.116667  54.0   0.0   \n",
       "4 2023-05-01 00:13:18        226         231           11.866667  48.0   2.0   \n",
       "\n",
       "   Inicio_del_viaje_hora  Inicio_del_viaje_minuto  Fin_del_viaje_hora  \\\n",
       "0                      0                        0                   0   \n",
       "1                      0                        0                   0   \n",
       "2                      0                        1                   0   \n",
       "3                      0                        1                   0   \n",
       "4                      0                        1                   0   \n",
       "\n",
       "   Fin_del_viaje_minuto    Dist_G  \n",
       "0                    22  4.340899  \n",
       "1                     4  0.773510  \n",
       "2                    10  1.171307  \n",
       "3                     4  0.389296  \n",
       "4                    13  1.624038  "
      ]
     },
     "execution_count": 15,
     "metadata": {},
     "output_type": "execute_result"
    }
   ],
   "source": [
    "\n",
    "import pandas as pd\n",
    "from geopy.distance import geodesic\n",
    "\n",
    "# Paso 1: Leer el archivo \"indiceslocales.txt\"\n",
    "paradas = {}\n",
    "with open(\"indiceslocales.txt\", \"r\") as file:\n",
    "    for line in file:\n",
    "        index, lat, lon = line.strip().split()\n",
    "        paradas[int(index)] = (float(lat), float(lon))\n",
    "\n",
    "# Paso 2: Definir la función para calcular la distancia geodésica\n",
    "def calcular_distancia_geodesica(coord1, coord2):\n",
    "    return geodesic(coord1, coord2).kilometers\n",
    "\n",
    "# Paso 3: Calcular y agregar la distancia geodésica al dataframe\n",
    "dataframe[\"Dist_G\"] = dataframe.apply(lambda row: calcular_distancia_geodesica(paradas[row[\"Origen_Id\"]], paradas[row[\"Destino_Id\"]]), axis=1)\n",
    "\n",
    "dataframe.head()\n",
    "\n",
    "\n"
   ]
  },
  {
   "cell_type": "code",
   "execution_count": 17,
   "metadata": {},
   "outputs": [
    {
     "data": {
      "text/html": [
       "<div>\n",
       "<style scoped>\n",
       "    .dataframe tbody tr th:only-of-type {\n",
       "        vertical-align: middle;\n",
       "    }\n",
       "\n",
       "    .dataframe tbody tr th {\n",
       "        vertical-align: top;\n",
       "    }\n",
       "\n",
       "    .dataframe thead th {\n",
       "        text-align: right;\n",
       "    }\n",
       "</style>\n",
       "<table border=\"1\" class=\"dataframe\">\n",
       "  <thead>\n",
       "    <tr style=\"text-align: right;\">\n",
       "      <th></th>\n",
       "      <th>Genero</th>\n",
       "      <th>Origen_Id</th>\n",
       "      <th>Destino_Id</th>\n",
       "      <th>Duracion_del_viaje</th>\n",
       "      <th>Edad</th>\n",
       "      <th>Zona</th>\n",
       "      <th>Dist_G</th>\n",
       "    </tr>\n",
       "  </thead>\n",
       "  <tbody>\n",
       "    <tr>\n",
       "      <th>0</th>\n",
       "      <td>0.0</td>\n",
       "      <td>64</td>\n",
       "      <td>141</td>\n",
       "      <td>22.266667</td>\n",
       "      <td>56.0</td>\n",
       "      <td>0.0</td>\n",
       "      <td>4.340899</td>\n",
       "    </tr>\n",
       "    <tr>\n",
       "      <th>1</th>\n",
       "      <td>0.0</td>\n",
       "      <td>36</td>\n",
       "      <td>172</td>\n",
       "      <td>4.050000</td>\n",
       "      <td>43.0</td>\n",
       "      <td>0.0</td>\n",
       "      <td>0.773510</td>\n",
       "    </tr>\n",
       "    <tr>\n",
       "      <th>2</th>\n",
       "      <td>1.0</td>\n",
       "      <td>96</td>\n",
       "      <td>296</td>\n",
       "      <td>9.266667</td>\n",
       "      <td>21.0</td>\n",
       "      <td>1.0</td>\n",
       "      <td>1.171307</td>\n",
       "    </tr>\n",
       "    <tr>\n",
       "      <th>3</th>\n",
       "      <td>0.0</td>\n",
       "      <td>33</td>\n",
       "      <td>255</td>\n",
       "      <td>3.116667</td>\n",
       "      <td>54.0</td>\n",
       "      <td>0.0</td>\n",
       "      <td>0.389296</td>\n",
       "    </tr>\n",
       "    <tr>\n",
       "      <th>4</th>\n",
       "      <td>0.0</td>\n",
       "      <td>226</td>\n",
       "      <td>231</td>\n",
       "      <td>11.866667</td>\n",
       "      <td>48.0</td>\n",
       "      <td>2.0</td>\n",
       "      <td>1.624038</td>\n",
       "    </tr>\n",
       "  </tbody>\n",
       "</table>\n",
       "</div>"
      ],
      "text/plain": [
       "   Genero  Origen_Id  Destino_Id  Duracion_del_viaje  Edad  Zona    Dist_G\n",
       "0     0.0         64         141           22.266667  56.0   0.0  4.340899\n",
       "1     0.0         36         172            4.050000  43.0   0.0  0.773510\n",
       "2     1.0         96         296            9.266667  21.0   1.0  1.171307\n",
       "3     0.0         33         255            3.116667  54.0   0.0  0.389296\n",
       "4     0.0        226         231           11.866667  48.0   2.0  1.624038"
      ]
     },
     "execution_count": 17,
     "metadata": {},
     "output_type": "execute_result"
    }
   ],
   "source": [
    "sub_dataframe = dataframe.loc[:, [ \"Genero\",\"Duracion_del_viaje\",\"Edad\",\"Zona\",\"Dist_G\"]].dropna()\n",
    "sub_dataframe.head()\n"
   ]
  },
  {
   "cell_type": "code",
   "execution_count": null,
   "metadata": {},
   "outputs": [
    {
     "data": {
      "image/png": "[encoded data removed]",
      "text/plain": [
       "<Figure size 720x576 with 2 Axes>"
      ]
     },
     "metadata": {
      "needs_background": "light"
     },
     "output_type": "display_data"
    }
   ],
   "source": [
    "import seaborn as sns\n",
    "import matplotlib.pyplot as plt\n",
    "\n",
    "# Crear el mapa de calor\n",
    "plt.figure(figsize=(10, 8))  # Tamaño del gráfico\n",
    "sns.heatmap(sub_dataframe.corr(), annot=True, cmap='coolwarm')\n",
    "\n",
    "# Personalizar el gráfico\n",
    "plt.title('Mapa de calor de correlación')\n",
    "plt.xticks(rotation=45)\n",
    "\n",
    "# Mostrar el gráfico\n",
    "plt.show()"
   ]
  },
  {
   "cell_type": "code",
   "execution_count": 54,
   "metadata": {},
   "outputs": [
    {
     "name": "stdout",
     "output_type": "stream",
     "text": [
      "Precisión del modelo: 0.8940984566481242\n"
     ]
    }
   ],
   "source": [
    "import pandas as pd\n",
    "from sklearn.ensemble import RandomForestClassifier\n",
    "from sklearn.model_selection import train_test_split\n",
    "from sklearn.metrics import accuracy_score\n",
    "\n",
    "\n",
    "\n",
    "# Dividir los datos en características (X) y variable objetivo (y)\n",
    "columnas_deseadas = [ 'Genero', 'Edad']\n",
    "X = sub_dataframe[columnas_deseadas]\n",
    "y = sub_dataframe[\"Zona\"]\n",
    "\n",
    "# Dividir los datos en conjuntos de entrenamiento y prueba\n",
    "X_train, X_test, y_train, y_test = train_test_split(X, y, test_size=0.2, random_state=42)\n",
    "\n",
    "# Crear el modelo de Random Forest\n",
    "model = RandomForestClassifier()\n",
    "\n",
    "# Entrenar el modelo\n",
    "model.fit(X_train, y_train)\n",
    "\n",
    "# Realizar predicciones en el conjunto de prueba\n",
    "y_pred = model.predict(X_test)\n",
    "\n",
    "# Calcular la precisión de las predicciones\n",
    "accuracy = accuracy_score(y_test, y_pred)\n",
    "print(\"Precisión del modelo:\", accuracy)"
   ]
  },
  {
   "cell_type": "code",
   "execution_count": 55,
   "metadata": {},
   "outputs": [
    {
     "data": {
      "text/html": [
       "<div>\n",
       "<style scoped>\n",
       "    .dataframe tbody tr th:only-of-type {\n",
       "        vertical-align: middle;\n",
       "    }\n",
       "\n",
       "    .dataframe tbody tr th {\n",
       "        vertical-align: top;\n",
       "    }\n",
       "\n",
       "    .dataframe thead th {\n",
       "        text-align: right;\n",
       "    }\n",
       "</style>\n",
       "<table border=\"1\" class=\"dataframe\">\n",
       "  <thead>\n",
       "    <tr style=\"text-align: right;\">\n",
       "      <th></th>\n",
       "      <th>Genero</th>\n",
       "      <th>Edad</th>\n",
       "    </tr>\n",
       "  </thead>\n",
       "  <tbody>\n",
       "    <tr>\n",
       "      <th>0</th>\n",
       "      <td>0.0</td>\n",
       "      <td>56.0</td>\n",
       "    </tr>\n",
       "    <tr>\n",
       "      <th>1</th>\n",
       "      <td>0.0</td>\n",
       "      <td>43.0</td>\n",
       "    </tr>\n",
       "    <tr>\n",
       "      <th>2</th>\n",
       "      <td>1.0</td>\n",
       "      <td>21.0</td>\n",
       "    </tr>\n",
       "    <tr>\n",
       "      <th>3</th>\n",
       "      <td>0.0</td>\n",
       "      <td>54.0</td>\n",
       "    </tr>\n",
       "    <tr>\n",
       "      <th>4</th>\n",
       "      <td>0.0</td>\n",
       "      <td>48.0</td>\n",
       "    </tr>\n",
       "  </tbody>\n",
       "</table>\n",
       "</div>"
      ],
      "text/plain": [
       "   Genero  Edad\n",
       "0     0.0  56.0\n",
       "1     0.0  43.0\n",
       "2     1.0  21.0\n",
       "3     0.0  54.0\n",
       "4     0.0  48.0"
      ]
     },
     "execution_count": 55,
     "metadata": {},
     "output_type": "execute_result"
    }
   ],
   "source": [
    "X.head()"
   ]
  },
  {
   "cell_type": "code",
   "execution_count": 56,
   "metadata": {},
   "outputs": [
    {
     "data": {
      "image/png": "[encoded data removed]",
      "text/plain": [
       "<Figure size 432x288 with 1 Axes>"
      ]
     },
     "metadata": {
      "needs_background": "light"
     },
     "output_type": "display_data"
    }
   ],
   "source": [
    "import seaborn as sns\n",
    "from sklearn.metrics import confusion_matrix\n",
    "\n",
    "# Obtener la matriz de confusión\n",
    "cm = confusion_matrix(y_test, y_pred)\n",
    "\n",
    "# Crear una figura y un eje\n",
    "fig, ax = plt.subplots()\n",
    "\n",
    "# Crear el mapa de calor de la matriz de confusión\n",
    "sns.heatmap(cm, annot=True, fmt='d', cmap='Blues', cbar=False, ax=ax)\n",
    "\n",
    "# Personalizar el gráfico\n",
    "ax.set_xlabel('Predicted')\n",
    "ax.set_ylabel('Actual')\n",
    "ax.set_title('Confusion Matrix')\n",
    "\n",
    "# Mostrar el gráfico\n",
    "plt.show()"
   ]
  },
  {
   "cell_type": "code",
   "execution_count": 22,
   "metadata": {},
   "outputs": [
    {
     "data": {
      "image/png": "[encoded data removed]",
      "text/plain": [
       "<Figure size 432x288 with 1 Axes>"
      ]
     },
     "metadata": {
      "needs_background": "light"
     },
     "output_type": "display_data"
    }
   ],
   "source": [
    "conteo = dataframe['Genero'].value_counts()\n",
    "hombres = conteo[0.0]\n",
    "mujeres = conteo[1.0]\n",
    "\n",
    "# Crear el histograma\n",
    "generos = ['Hombres', 'Mujeres']\n",
    "cantidad = [hombres, mujeres]\n",
    "\n",
    "plt.bar(generos, cantidad, color=['blue', 'pink'])\n",
    "plt.xlabel('Género')\n",
    "plt.ylabel('Cantidad')\n",
    "plt.title('Histograma de Hombres y Mujeres')\n",
    "plt.show()"
   ]
  },
  {
   "cell_type": "code",
   "execution_count": 5,
   "metadata": {},
   "outputs": [
    {
     "name": "stdout",
     "output_type": "stream",
     "text": [
      "33.93597377344947 10.673843699662532\n"
     ]
    },
    {
     "data": {
      "image/png": "[encoded data removed]",
      "text/plain": [
       "<Figure size 432x288 with 1 Axes>"
      ]
     },
     "metadata": {
      "needs_background": "light"
     },
     "output_type": "display_data"
    }
   ],
   "source": [
    "\n",
    "# Generar los límites de los rangos de edad\n",
    "edades_min = int(dataframe['Edad'].min())  # Edad mínima en el DataFrame\n",
    "edades_max = int(dataframe['Edad'].max())  # Edad máxima en el DataFrame\n",
    "rangos_edad = range(edades_min, edades_max + 2, 2)  # Rangos de edad de 10 en 10\n",
    "\n",
    "data = dataframe[\"Edad\"].dropna()\n",
    "mu, std = stats.norm.fit(data)\n",
    "print(mu,std)\n",
    "\n",
    "x = np.linspace(data.min(), 80, 100)\n",
    "pdf = stats.norm.pdf(x, mu,std)\n",
    "# Crear el histograma\n",
    "plt.hist(dataframe['Edad'], bins=rangos_edad, edgecolor='black',density=True)\n",
    "plt.plot(x, pdf, 'r-', label='Distribución Normal')\n",
    "# Configurar el título y las etiquetas de los ejes\n",
    "plt.title('Distribución de Edades')\n",
    "plt.xlabel('Edades')\n",
    "plt.ylabel('Frecuencia')\n",
    "\n",
    "# Mostrar el histograma\n",
    "plt.show()"
   ]
  },
  {
   "cell_type": "code",
   "execution_count": 11,
   "metadata": {},
   "outputs": [
    {
     "name": "stdout",
     "output_type": "stream",
     "text": [
      "33.93597377344947\n"
     ]
    },
    {
     "data": {
      "image/png": "[encoded data removed]",
      "text/plain": [
       "<Figure size 432x288 with 1 Axes>"
      ]
     },
     "metadata": {
      "needs_background": "light"
     },
     "output_type": "display_data"
    }
   ],
   "source": [
    "# Generar los límites de los rangos de edad\n",
    "edades_min = int(dataframe['Edad'].min())  # Edad mínima en el DataFrame\n",
    "edades_max = int(dataframe['Edad'].max())  # Edad máxima en el DataFrame\n",
    "rangos_edad = range(edades_min, edades_max + 2, 2)  # Rangos de edad de 10 en 10\n",
    "\n",
    "data = dataframe[\"Edad\"].dropna()\n",
    "mu = data.mean()  # Parámetro lambda para la distribución de Poisson\n",
    "print(mu)\n",
    "x = np.arange(data.min(), data.max() + 1)\n",
    "pmf = stats.poisson.pmf(x, mu-4)\n",
    "# Crear el histograma\n",
    "plt.hist(dataframe['Edad'], bins=rangos_edad, edgecolor='black', density=True)\n",
    "plt.plot(x, pmf, 'r-', label='Distribución de Poisson')\n",
    "# Configurar el título y las etiquetas de los ejes\n",
    "plt.title('Distribución de Edades')\n",
    "plt.xlabel('Edades')\n",
    "plt.ylabel('Frecuencia')\n",
    "\n",
    "# Mostrar el histograma\n",
    "plt.show()"
   ]
  },
  {
   "cell_type": "code",
   "execution_count": 40,
   "metadata": {},
   "outputs": [
    {
     "name": "stdout",
     "output_type": "stream",
     "text": [
      "2251\n",
      "10.631289989510048 10.673489469198145\n"
     ]
    },
    {
     "data": {
      "image/png": "[encoded data removed]",
      "text/plain": [
       "<Figure size 432x288 with 1 Axes>"
      ]
     },
     "metadata": {
      "needs_background": "light"
     },
     "output_type": "display_data"
    }
   ],
   "source": [
    "# Generar los límites de los rangos de edad\n",
    "tiempo_maximo = int(dataframe[\"Duracion_del_viaje\"].max())\n",
    "print(tiempo_maximo)\n",
    "# Crear el rango de bins del histograma en intervalos de 2 minutos\n",
    "bins = range(0, 50, 1)\n",
    "\n",
    "data = dataframe[\"Duracion_del_viaje\"]\n",
    "mu, std = stats.norm.fit(data)\n",
    "print(mu,std)\n",
    "pmf = stats.poisson.pmf(x, mu)\n",
    "x = np.linspace(data.min(), 50, 100)\n",
    "pdf = stats.norm.pdf(x, mu,std)\n",
    "\n",
    "# Crear el histograma\n",
    "plt.hist(dataframe[\"Duracion_del_viaje\"], bins=bins,edgecolor='black',density=True)\n",
    "plt.plot(x, pdf, 'r-', label='Distribución Normal')\n",
    "# Configurar los ejes y el título\n",
    "plt.xlabel(\"Duración de viaje (minutos)\")\n",
    "plt.ylabel(\"Frecuencia\")\n",
    "plt.title(\"Histograma de Duración de viaje\")\n",
    "\n",
    "# Mostrar el histograma\n",
    "plt.show()"
   ]
  },
  {
   "cell_type": "code",
   "execution_count": null,
   "metadata": {},
   "outputs": [],
   "source": [
    "gmap = gmplot.GoogleMapPlotter(20.6597, -103.3496, 13)\n",
    "latitudes = []\n",
    "longitudes = []\n",
    "with open(\"locales.txt\", \"r\") as archivo:\n",
    "    for linea in archivo:\n",
    "        valores = linea.split(\t)  # Separar los valores por espacios en blanco\n",
    "        latitudes.append(float(valores[0]))  # Convertir y guardar el valor de la columna 1\n",
    "        longitudes.append(float(valores[1])) \n",
    "\n",
    "# Obtener los datos de latitud y longitu\n",
    "#  # Ejemplo de longitudes de los puntos\n",
    "latitudes_1 = []\n",
    "longitudes_1 = []\n",
    "latitudes_2 = []\n",
    "longitudes_2 = []\n",
    "\n",
    "latitudes_3 = []\n",
    "longitudes_3 = []\n",
    "\n",
    "for i in range(1,116):\n",
    "      latitudes_1.append(latitudes[i])\n",
    "      longitudes_1.append(longitudes[i])\n",
    "\n",
    "for i in range(116,226):\n",
    "      latitudes_2.append(latitudes[i])\n",
    "      longitudes_2.append(longitudes[i])\n",
    "\n",
    "for i in range(226,312):\n",
    "      latitudes_3.append(latitudes[i])\n",
    "      longitudes_3.append(longitudes[i])\n",
    "# Marcar los puntos en el mapa\n",
    "gmap.scatter(latitudes_1, longitudes_1, color='blue', size=40, marker=True)\n",
    "gmap.scatter(latitudes_2, longitudes_2, color='orange', size=40, marker=True)\n",
    "gmap.scatter(latitudes_3, longitudes_3, color='green', size=40, marker=True)\n",
    "# Guardar el mapa en un archivo HTML\n",
    "gmap.draw(\"mapa.html\")\n"
   ]
  },
  {
   "cell_type": "code",
   "execution_count": 47,
   "metadata": {},
   "outputs": [
    {
     "data": {
      "text/html": [
       "<div>\n",
       "<style scoped>\n",
       "    .dataframe tbody tr th:only-of-type {\n",
       "        vertical-align: middle;\n",
       "    }\n",
       "\n",
       "    .dataframe tbody tr th {\n",
       "        vertical-align: top;\n",
       "    }\n",
       "\n",
       "    .dataframe thead th {\n",
       "        text-align: right;\n",
       "    }\n",
       "</style>\n",
       "<table border=\"1\" class=\"dataframe\">\n",
       "  <thead>\n",
       "    <tr style=\"text-align: right;\">\n",
       "      <th></th>\n",
       "      <th>Estacion_Id</th>\n",
       "      <th>Latitud</th>\n",
       "      <th>Longitud</th>\n",
       "      <th>Location_Destino</th>\n",
       "    </tr>\n",
       "  </thead>\n",
       "  <tbody>\n",
       "    <tr>\n",
       "      <th>0</th>\n",
       "      <td>2</td>\n",
       "      <td>20.666378</td>\n",
       "      <td>-103.348820</td>\n",
       "      <td>0.0</td>\n",
       "    </tr>\n",
       "    <tr>\n",
       "      <th>1</th>\n",
       "      <td>3</td>\n",
       "      <td>20.667228</td>\n",
       "      <td>-103.366000</td>\n",
       "      <td>0.0</td>\n",
       "    </tr>\n",
       "    <tr>\n",
       "      <th>2</th>\n",
       "      <td>4</td>\n",
       "      <td>20.667690</td>\n",
       "      <td>-103.368252</td>\n",
       "      <td>0.0</td>\n",
       "    </tr>\n",
       "    <tr>\n",
       "      <th>3</th>\n",
       "      <td>5</td>\n",
       "      <td>20.691750</td>\n",
       "      <td>-103.362550</td>\n",
       "      <td>0.0</td>\n",
       "    </tr>\n",
       "    <tr>\n",
       "      <th>4</th>\n",
       "      <td>6</td>\n",
       "      <td>20.681151</td>\n",
       "      <td>-103.338863</td>\n",
       "      <td>0.0</td>\n",
       "    </tr>\n",
       "  </tbody>\n",
       "</table>\n",
       "</div>"
      ],
      "text/plain": [
       "   Estacion_Id    Latitud    Longitud  Location_Destino\n",
       "0            2  20.666378 -103.348820               0.0\n",
       "1            3  20.667228 -103.366000               0.0\n",
       "2            4  20.667690 -103.368252               0.0\n",
       "3            5  20.691750 -103.362550               0.0\n",
       "4            6  20.681151 -103.338863               0.0"
      ]
     },
     "execution_count": 47,
     "metadata": {},
     "output_type": "execute_result"
    }
   ],
   "source": [
    "data = pd.read_csv('indiceslocales.txt', delimiter='\\t', header=None)\n",
    "data.columns = ['Estacion_Id', 'Latitud', 'Longitud']\n",
    "\n",
    "def in_interval(x,a,b):\n",
    "    if  (x>= a and x<=b):\n",
    "        return True\n",
    "    else:\n",
    "        return False\n",
    "\n",
    "\n",
    "def asignar_location(valor):\n",
    "    if (valor>= 2 and valor<=88) or (valor>= 125 and valor<=141) or (valor>= 154 and valor<=225) or (valor>= 241 and valor<=250) or (valor>= 253 and valor<=256) or (valor>= 259 and valor<=266) or (valor>= 268 and valor<=269)or(valor>= 271 and valor<=285) or (valor>= 303 and valor<=304) or (valor>= 306 and valor<=316) or (valor>= 319 and valor<=321) or (valor>= 323 and valor<=324) or (valor>= 326 and valor<=327):\n",
    "        return 0 #POLIGONO CENTRAL\n",
    "    elif (valor>= 91 and valor<=120) or (valor>= 286 and valor<=296):\n",
    "        return 1 #ZAPOAN CENTRO\n",
    "    elif in_interval(valor,142,153) or in_interval(valor,226,240) or (valor==267)or (valor==270) or (valor==302) or (valor==305) or in_interval(valor,317,318) or (valor==322) or (valor==325):\n",
    "        return 2 #TLQ-CORREDORATLAS\n",
    "\n",
    "# Aplicar la función a la columna \"Destino_Id\" y asignar los valores resultantes a la columna \"Zona\"\n",
    "data['Location_Destino'] = data['Estacion_Id'].apply(asignar_location)      \n",
    "data.head()"
   ]
  },
  {
   "cell_type": "code",
   "execution_count": 48,
   "metadata": {},
   "outputs": [],
   "source": [
    "\n",
    "\n",
    "gmap = gmplot.GoogleMapPlotter(20.6597, -103.3496, 13)\n",
    "\n",
    "colors = {0: 'blue', 1: 'green', 2: 'orange'}\n",
    "\n",
    "for index, row in data.iterrows():\n",
    "    lat, lon = row['Latitud'], row['Longitud']\n",
    "    color = colors.get(row['Location_Destino'], 'orange')\n",
    "    gmap.marker(lat, lon, color=color)\n",
    "\n",
    "gmap.draw(\"mapa_estaciones.html\")"
   ]
  },
  {
   "cell_type": "code",
   "execution_count": null,
   "metadata": {},
   "outputs": [],
   "source": [
    "gmap = gmplot.GoogleMapPlotter(20.6597, -103.3496, 13)\n",
    "\n",
    "station = {0,51 ,\n",
    "271,\n",
    "11 ,    \n",
    "35 ,    \n",
    "52 ,    \n",
    "50 ,    \n",
    "54 ,    \n",
    "260 ,  \n",
    "194 ,  \n",
    "58   }\n",
    "\n",
    "for index, row in data.iterrows():\n",
    "    lat, lon = row['Latitud'], row['Longitud']\n",
    "    if row['Estacion_Id'] in station:\n",
    "        gmap.marker(lat, lon, color=\"gray\")\n",
    "\n",
    "gmap.draw(\"mapa_origen_mas_usadas.html\")"
   ]
  },
  {
   "cell_type": "code",
   "execution_count": null,
   "metadata": {},
   "outputs": [],
   "source": [
    "gmap = gmplot.GoogleMapPlotter(20.6597, -103.3496, 13)\n",
    "\n",
    "station = {51 ,\n",
    "35     ,\n",
    "271    ,\n",
    "11     ,\n",
    "52     ,\n",
    "50     ,\n",
    "54     ,\n",
    "34     ,\n",
    "260    ,\n",
    "58      }\n",
    "\n",
    "for index, row in data.iterrows():\n",
    "    lat, lon = row['Latitud'], row['Longitud']\n",
    "    if row['Estacion_Id'] in station:\n",
    "        gmap.marker(lat, lon, color=\"black\")\n",
    "\n",
    "gmap.draw(\"mapa_destino_mas_usadas.html\")"
   ]
  }
 ],
 "metadata": {
  "kernelspec": {
   "display_name": "Python 3.9.12 ('base')",
   "language": "python",
   "name": "python3"
  },
  "language_info": {
   "codemirror_mode": {
    "name": "ipython",
    "version": 3
   },
   "file_extension": ".py",
   "mimetype": "text/x-python",
   "name": "python",
   "nbconvert_exporter": "python",
   "pygments_lexer": "ipython3",
   "version": "3.9.12"
  },
  "orig_nbformat": 4,
  "vscode": {
   "interpreter": {
    "hash": "ad2bdc8ecc057115af97d19610ffacc2b4e99fae6737bb82f5d7fb13d2f2c186"
   }
  }
 },
 "nbformat": 4,
 "nbformat_minor": 2
}
